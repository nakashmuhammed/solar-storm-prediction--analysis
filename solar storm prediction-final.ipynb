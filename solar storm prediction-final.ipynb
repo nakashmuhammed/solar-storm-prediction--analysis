{
 "cells": [
  {
   "cell_type": "code",
   "execution_count": 9,
   "id": "57f58a3e",
   "metadata": {
    "executionInfo": {
     "elapsed": 3121,
     "status": "ok",
     "timestamp": 1742120661947,
     "user": {
      "displayName": "Safa Rafeeq",
      "userId": "05476464169285266055"
     },
     "user_tz": -330
    },
    "id": "57f58a3e"
   },
   "outputs": [
    {
     "ename": "ModuleNotFoundError",
     "evalue": "No module named 'scipy'",
     "output_type": "error",
     "traceback": [
      "\u001b[31m---------------------------------------------------------------------------\u001b[39m",
      "\u001b[31mModuleNotFoundError\u001b[39m                       Traceback (most recent call last)",
      "\u001b[36mCell\u001b[39m\u001b[36m \u001b[39m\u001b[32mIn[9]\u001b[39m\u001b[32m, line 7\u001b[39m\n\u001b[32m      4\u001b[39m \u001b[38;5;28;01mimport\u001b[39;00m\u001b[38;5;250m \u001b[39m\u001b[34;01mseaborn\u001b[39;00m\u001b[38;5;250m \u001b[39m\u001b[38;5;28;01mas\u001b[39;00m\u001b[38;5;250m \u001b[39m\u001b[34;01msns\u001b[39;00m\n\u001b[32m      5\u001b[39m get_ipython().run_line_magic(\u001b[33m'\u001b[39m\u001b[33mmatplotlib\u001b[39m\u001b[33m'\u001b[39m, \u001b[33m'\u001b[39m\u001b[33minline\u001b[39m\u001b[33m'\u001b[39m)\n\u001b[32m----> \u001b[39m\u001b[32m7\u001b[39m \u001b[38;5;28;01mfrom\u001b[39;00m\u001b[38;5;250m \u001b[39m\u001b[34;01mscipy\u001b[39;00m\u001b[38;5;250m \u001b[39m\u001b[38;5;28;01mimport\u001b[39;00m stats\n\u001b[32m      8\u001b[39m \u001b[38;5;28;01mfrom\u001b[39;00m\u001b[38;5;250m \u001b[39m\u001b[34;01mscipy\u001b[39;00m\u001b[34;01m.\u001b[39;00m\u001b[34;01mstats\u001b[39;00m\u001b[38;5;250m \u001b[39m\u001b[38;5;28;01mimport\u001b[39;00m norm, skew\n\u001b[32m     11\u001b[39m \u001b[38;5;28;01mfrom\u001b[39;00m\u001b[38;5;250m \u001b[39m\u001b[34;01msklearn\u001b[39;00m\u001b[34;01m.\u001b[39;00m\u001b[34;01mmodel_selection\u001b[39;00m\u001b[38;5;250m \u001b[39m\u001b[38;5;28;01mimport\u001b[39;00m train_test_split, KFold, GroupKFold, GridSearchCV, StratifiedKFold\n",
      "\u001b[31mModuleNotFoundError\u001b[39m: No module named 'scipy'"
     ]
    }
   ],
   "source": [
    "import numpy as np\n",
    "import pandas as pd\n",
    "import matplotlib.pyplot as plt\n",
    "import seaborn as sns\n",
    "%matplotlib inline\n",
    "\n",
    "from scipy import stats\n",
    "from scipy.stats import norm, skew\n",
    "\n",
    "\n",
    "from sklearn.model_selection import train_test_split, KFold, GroupKFold, GridSearchCV, StratifiedKFold\n",
    "from sklearn.preprocessing import LabelEncoder, OneHotEncoder, StandardScaler, MinMaxScaler, RobustScaler\n",
    "from sklearn.metrics import *\n",
    "\n",
    "import sys, os\n",
    "import random\n",
    "\n",
    "if not sys.warnoptions:\n",
    "    import warnings\n",
    "    warnings.simplefilter(\"ignore\")\n",
    "\n",
    "from IPython import display, utils"
   ]
  },
  {
   "cell_type": "code",
   "execution_count": null,
   "id": "106d2f76",
   "metadata": {
    "colab": {
     "base_uri": "https://localhost:8080/",
     "height": 388
    },
    "executionInfo": {
     "elapsed": 161,
     "status": "error",
     "timestamp": 1742121220799,
     "user": {
      "displayName": "Safa Rafeeq",
      "userId": "05476464169285266055"
     },
     "user_tz": -330
    },
    "id": "106d2f76",
    "outputId": "446b3519-62cb-402b-bd1d-d88924db5868"
   },
   "outputs": [],
   "source": [
    "data1 = pd.read_csv(\"labels.csv\")\n",
    "data2 = pd.read_csv(\"satellite_pos.csv\")\n",
    "data3 = pd.read_csv(\"solar_wind.csv\")\n",
    "data4 = pd.read_csv(\"sunspots.csv\")\n",
    "# Display the column names\n",
    "print(data1.columns)\n",
    "# Display the column names\n",
    "print(data2.columns)\n",
    "# Display the column names\n",
    "print(data3.columns)\n",
    "# Display the column names\n",
    "print(data4.columns)"
   ]
  },
  {
   "cell_type": "code",
   "execution_count": null,
   "id": "3f99e591",
   "metadata": {
    "id": "3f99e591",
    "outputId": "88ecf909-0d52-4ae7-a68c-d5fc67d1129a"
   },
   "outputs": [],
   "source": [
    "# show the data\n",
    "data1.head()"
   ]
  },
  {
   "cell_type": "code",
   "execution_count": null,
   "id": "a9fc04a1",
   "metadata": {
    "id": "a9fc04a1",
    "outputId": "fc3f6896-5d70-4472-9a8d-056e7e0206e6",
    "scrolled": true
   },
   "outputs": [],
   "source": [
    "data2.head()"
   ]
  },
  {
   "cell_type": "code",
   "execution_count": null,
   "id": "726c5a27",
   "metadata": {
    "id": "726c5a27",
    "outputId": "5ce89eab-83aa-4055-934b-4b18a0a2363f",
    "scrolled": true
   },
   "outputs": [],
   "source": [
    "data3.head()"
   ]
  },
  {
   "cell_type": "code",
   "execution_count": null,
   "id": "7f8c8a4c",
   "metadata": {
    "id": "7f8c8a4c",
    "outputId": "d11ee5ec-8c89-4c6d-a394-c3463c5fb6ac"
   },
   "outputs": [],
   "source": [
    "data4.head()"
   ]
  },
  {
   "cell_type": "code",
   "execution_count": null,
   "id": "ac31b901",
   "metadata": {
    "id": "ac31b901",
    "outputId": "e9d98545-4d00-49fc-a64e-672625de263f"
   },
   "outputs": [],
   "source": [
    "len(solar_wind)"
   ]
  },
  {
   "cell_type": "code",
   "execution_count": null,
   "id": "da5b3b8b",
   "metadata": {
    "id": "da5b3b8b",
    "outputId": "efc3370d-8d22-403c-ea99-8754b2bbee91"
   },
   "outputs": [],
   "source": [
    "solar_wind.describe()"
   ]
  },
  {
   "cell_type": "code",
   "execution_count": null,
   "id": "42fd478b",
   "metadata": {
    "id": "42fd478b",
    "outputId": "eeb7c373-0de9-4b1a-e75b-403815ceb0fc"
   },
   "outputs": [],
   "source": [
    "print(\"AVG Speed: \",solar_wind.describe()[\"speed\"][\"mean\"])\n",
    "print(\"MAX Speed: \",solar_wind.describe()[\"speed\"][\"max\"])\n",
    "print(\"MIN Speed: \",solar_wind.describe()[\"speed\"][\"min\"])\n",
    "print(\"STD Speed: \",solar_wind.describe()[\"speed\"][\"std\"])"
   ]
  },
  {
   "cell_type": "code",
   "execution_count": null,
   "id": "5e6bd5bb",
   "metadata": {
    "id": "5e6bd5bb",
    "outputId": "0ccc0476-6cc7-44c2-a199-47d8d84cc4aa"
   },
   "outputs": [],
   "source": [
    "boxplot = solar_wind.boxplot(column=['speed'])"
   ]
  },
  {
   "cell_type": "code",
   "execution_count": null,
   "id": "762b0bd6",
   "metadata": {
    "id": "762b0bd6",
    "outputId": "b669fc21-3d11-485c-edb4-f919727ca326"
   },
   "outputs": [],
   "source": [
    "solar_wind.groupby(\"period\").describe()"
   ]
  },
  {
   "cell_type": "code",
   "execution_count": null,
   "id": "dc1b5d5c",
   "metadata": {
    "id": "dc1b5d5c",
    "outputId": "c04b1cea-b214-49c2-8d33-f45ae2dd5647"
   },
   "outputs": [],
   "source": [
    "# Check the data types\n",
    "solar_wind.dtypes"
   ]
  },
  {
   "cell_type": "code",
   "execution_count": null,
   "id": "fb25a187",
   "metadata": {
    "id": "fb25a187",
    "outputId": "9c788030-fdc4-437f-f50a-6a699d71d433"
   },
   "outputs": [],
   "source": [
    "# Describe based on groups\n",
    "t1 = solar_wind.groupby(['period']).describe().T\n",
    "print(t1.to_string())"
   ]
  },
  {
   "cell_type": "code",
   "execution_count": null,
   "id": "00ba60d1",
   "metadata": {
    "id": "00ba60d1",
    "outputId": "e11294ea-3c54-4190-9436-52aad3cf7a65"
   },
   "outputs": [],
   "source": [
    "for col in solar_wind.columns[solar_wind.dtypes==object].tolist():\n",
    "    print(solar_wind.groupby([col])[col].count(), '\\n')"
   ]
  },
  {
   "cell_type": "code",
   "execution_count": null,
   "id": "29e35994",
   "metadata": {
    "id": "29e35994",
    "outputId": "bb43d26b-0dff-420a-f5a6-feff558740c9"
   },
   "outputs": [],
   "source": [
    "print(\"Solar wind shape: \", solar_wind.shape)\n",
    "solar_wind.head()"
   ]
  },
  {
   "cell_type": "code",
   "execution_count": null,
   "id": "b248cf84",
   "metadata": {
    "id": "b248cf84"
   },
   "outputs": [],
   "source": [
    "### Visualizations\n",
    "pd.options.plotting.backend = \"matplotlib\""
   ]
  },
  {
   "cell_type": "code",
   "execution_count": null,
   "id": "fe973734",
   "metadata": {
    "id": "fe973734",
    "outputId": "380fafab-ef4e-4cfc-a917-ac7f61a25844"
   },
   "outputs": [],
   "source": [
    "solar_wind.shape"
   ]
  },
  {
   "cell_type": "code",
   "execution_count": null,
   "id": "91c3060e",
   "metadata": {
    "id": "91c3060e",
    "outputId": "2c1da256-d114-4de7-ec92-6a70688daffc"
   },
   "outputs": [],
   "source": [
    "# Check for NULL values\n",
    "solar_wind.isnull().sum()"
   ]
  },
  {
   "cell_type": "code",
   "execution_count": null,
   "id": "d89d0e5e",
   "metadata": {
    "id": "d89d0e5e",
    "outputId": "b11d0d29-a6c5-4542-d455-ecfa7653cacd"
   },
   "outputs": [],
   "source": [
    "solar_wind.hist(bins = 20, figsize = (20,10));"
   ]
  },
  {
   "cell_type": "code",
   "execution_count": null,
   "id": "486ce620",
   "metadata": {
    "colab": {
     "base_uri": "https://localhost:8080/",
     "height": 182
    },
    "executionInfo": {
     "elapsed": 137,
     "status": "error",
     "timestamp": 1742120905557,
     "user": {
      "displayName": "Safa Rafeeq",
      "userId": "05476464169285266055"
     },
     "user_tz": -330
    },
    "id": "486ce620",
    "outputId": "9739c77f-b444-4a79-d8b5-9d832a508698"
   },
   "outputs": [],
   "source": [
    "# Time series plot\n",
    "for col in ['bx_gse', 'by_gse', 'bz_gse']:\n",
    "    fig = solar_wind[solar_wind.period == 'train_a'].plot( y = [col]);"
   ]
  },
  {
   "cell_type": "code",
   "execution_count": null,
   "id": "398939dc",
   "metadata": {
    "id": "398939dc"
   },
   "outputs": [],
   "source": [
    "solar_wind[['bx_gse', 'period']].boxplot()"
   ]
  },
  {
   "cell_type": "code",
   "execution_count": null,
   "id": "63c753c3",
   "metadata": {
    "id": "63c753c3"
   },
   "outputs": [],
   "source": [
    "solar_wind[['bx_gse', 'period']].boxplot(by = 'period')"
   ]
  },
  {
   "cell_type": "code",
   "execution_count": null,
   "id": "a0c5173d",
   "metadata": {
    "id": "a0c5173d"
   },
   "outputs": [],
   "source": [
    "sns.pairplot(solar_wind.iloc[:100])"
   ]
  },
  {
   "cell_type": "code",
   "execution_count": null,
   "id": "d9b088a5",
   "metadata": {
    "id": "d9b088a5",
    "outputId": "57400a3a-e027-44cd-ff89-c5d7e45782cc"
   },
   "outputs": [],
   "source": [
    "# Correlation plot\n",
    "# cor = solar_wind.corr()\n",
    "sns.heatmap"
   ]
  },
  {
   "cell_type": "code",
   "execution_count": null,
   "id": "25ebecca",
   "metadata": {
    "id": "25ebecca"
   },
   "outputs": [],
   "source": [
    "pd.options.plotting.backend = \"plotly\"\n",
    "num_cols = solar_wind.columns[solar_wind.dtypes != object].tolist()"
   ]
  },
  {
   "cell_type": "code",
   "execution_count": null,
   "id": "7c7cecef",
   "metadata": {
    "id": "7c7cecef"
   },
   "outputs": [],
   "source": [
    "from pptx import Presentation\n",
    "from pptx.util import Inches\n",
    "# Load the dataset\n",
    "csv_file_path = 'labels.csv'\n",
    "data = pd.read_csv(csv_file_path)\n",
    "\n",
    "# Convert timedelta to a more usable format\n",
    "data['timedelta'] = pd.to_timedelta(data['timedelta'])\n",
    "\n",
    "# Set up the plotting style\n",
    "sns.set(style=\"whitegrid\")\n",
    "\n",
    "# Initialize the presentation\n",
    "prs = Presentation()\n",
    "\n",
    "# Slide 1: Title Slide\n",
    "slide = prs.slides.add_slide(prs.slide_layouts[0])\n",
    "title = slide.shapes.title\n",
    "subtitle = slide.placeholders[1]\n",
    "title.text = \"Analysis of Dataset\"\n",
    "subtitle.text = \"A concise overview\\nYour Name\\nDate\"\n",
    "\n",
    "# Slide 2: Dataset Overview\n",
    "slide = prs.slides.add_slide(prs.slide_layouts[1])\n",
    "title = slide.shapes.title\n",
    "content = slide.placeholders[1]\n",
    "title.text = \"Dataset Overview\"\n",
    "content.text = (\"This dataset contains the following columns:\\n\"\n",
    "                \"- Period: Different phases (e.g., train_a).\\n\"\n",
    "                \"- Timedelta: Time intervals.\\n\"\n",
    "                \"- DST: Some measured value.\\n\")\n",
    "\n",
    "# Slide 3: Data Distribution - Histogram of DST values\n",
    "plt.figure(figsize=(10, 6))\n",
    "sns.histplot(data['dst'], bins=30, kde=True, color='blue')\n",
    "plt.title('Distribution of DST Values')\n",
    "plt.xlabel('DST')\n",
    "plt.ylabel('Frequency')\n",
    "plt.savefig('dst_distribution.png')\n",
    "plt.close()\n",
    "\n",
    "slide = prs.slides.add_slide(prs.slide_layouts[5])\n",
    "title = slide.shapes.title\n",
    "title.text = \"Distribution of DST Values\"\n",
    "left = Inches(1)\n",
    "top = Inches(1.5)\n",
    "pic = slide.shapes.add_picture('dst_distribution.png', left, top, width=Inches(8))\n",
    "\n",
    "# Slide 4: Time-based Analysis - Line chart of DST over timedelta\n",
    "plt.figure(figsize=(12, 6))\n",
    "for period in data['period'].unique():\n",
    "    period_data = data[data['period'] == period]\n",
    "    plt.plot(period_data['timedelta'], period_data['dst'], label=period)\n",
    "plt.title('DST Changes Over Time')\n",
    "plt.xlabel('Timedelta')\n",
    "plt.ylabel('DST')\n",
    "plt.legend(title='Period')\n",
    "plt.savefig('dst_over_time.png')\n",
    "plt.close()\n",
    "\n",
    "slide = prs.slides.add_slide(prs.slide_layouts[5])\n",
    "title = slide.shapes.title\n",
    "title.text = \"DST Changes Over Time\"\n",
    "left = Inches(1)\n",
    "top = Inches(1.5)\n",
    "pic = slide.shapes.add_picture('dst_over_time.png', left, top, width=Inches(8))\n",
    "\n",
    "# Slide 5: Period Comparison - Bar chart of average DST values for each period\n",
    "average_dst = data.groupby('period')['dst'].mean().reset_index()\n",
    "\n",
    "plt.figure(figsize=(10, 6))\n",
    "sns.barplot(x='period', y='dst', data=average_dst, palette='viridis')\n",
    "plt.title('Average DST Values by Period')\n",
    "plt.xlabel('Period')\n",
    "plt.ylabel('Average DST')\n",
    "plt.savefig('average_dst.png')\n",
    "plt.close()\n",
    "\n",
    "slide = prs.slides.add_slide(prs.slide_layouts[5])\n",
    "title = slide.shapes.title\n",
    "title.text = \"Average DST Values by Period\"\n",
    "left = Inches(1)\n",
    "top = Inches(1.5)\n",
    "pic = slide.shapes.add_picture('average_dst.png', left, top, width=Inches(8))\n",
    "\n",
    "# Slide 6: Key Insights & Conclusion\n",
    "slide = prs.slides.add_slide(prs.slide_layouts[1])\n",
    "title = slide.shapes.title\n",
    "content = slide.placeholders[1]\n",
    "title.text = \"Key Insights & Conclusion\"\n",
    "content.text = (\"Summary of key findings:\\n\"\n",
    "                \"- Noticeable trends in DST over time.\\n\"\n",
    "                \"- Significant differences between periods.\\n\\n\"\n",
    "                \"Final thoughts and possible next steps for further analysis:\\n\"\n",
    "                \"- Detailed time series analysis to understand underlying patterns.\\n\"\n",
    "                \"- Investigate correlation with external factors.\\n\"\n",
    "                \"- Segment data for more granular analysis.\\n\"\n",
    "                \"- Develop predictive models to forecast future DST values.\\n\")\n",
    "\n",
    "# Save the presentation\n",
    "prs.save('analysis_presentation.pptx')"
   ]
  },
  {
   "cell_type": "code",
   "execution_count": null,
   "id": "d6bb4587",
   "metadata": {
    "id": "d6bb4587"
   },
   "outputs": [],
   "source": []
  }
 ],
 "metadata": {
  "colab": {
   "provenance": []
  },
  "kernelspec": {
   "display_name": "Python 3",
   "language": "python",
   "name": "python3"
  },
  "language_info": {
   "codemirror_mode": {
    "name": "ipython",
    "version": 3
   },
   "file_extension": ".py",
   "mimetype": "text/x-python",
   "name": "python",
   "nbconvert_exporter": "python",
   "pygments_lexer": "ipython3",
   "version": "3.13.2"
  }
 },
 "nbformat": 4,
 "nbformat_minor": 5
}
